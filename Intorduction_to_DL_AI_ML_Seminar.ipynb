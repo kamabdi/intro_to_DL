{
  "nbformat": 4,
  "nbformat_minor": 0,
  "metadata": {
    "colab": {
      "name": "Intorduction_to_DL_AI_ML_Seminar.ipynb",
      "provenance": [],
      "collapsed_sections": [],
      "include_colab_link": true
    },
    "kernelspec": {
      "name": "python2",
      "display_name": "Python 2"
    },
    "accelerator": "GPU",
    "widgets": {
      "application/vnd.jupyter.widget-state+json": {
        "16da7d825dad48669c400861f24f7ee2": {
          "model_module": "@jupyter-widgets/controls",
          "model_name": "HBoxModel",
          "state": {
            "_view_name": "HBoxView",
            "_dom_classes": [],
            "_model_name": "HBoxModel",
            "_view_module": "@jupyter-widgets/controls",
            "_model_module_version": "1.5.0",
            "_view_count": null,
            "_view_module_version": "1.5.0",
            "box_style": "",
            "layout": "IPY_MODEL_547746d28c7a45359c9075629917ae80",
            "_model_module": "@jupyter-widgets/controls",
            "children": [
              "IPY_MODEL_a4b2f1d31e354bef9977c447ffd3ff13",
              "IPY_MODEL_02b20f35c24c45ffa8bd40e31ff8344d"
            ]
          }
        },
        "547746d28c7a45359c9075629917ae80": {
          "model_module": "@jupyter-widgets/base",
          "model_name": "LayoutModel",
          "state": {
            "_view_name": "LayoutView",
            "grid_template_rows": null,
            "right": null,
            "justify_content": null,
            "_view_module": "@jupyter-widgets/base",
            "_model_module_version": "1.2.0",
            "_view_count": null,
            "flex_flow": null,
            "min_width": null,
            "border": null,
            "align_items": null,
            "bottom": null,
            "_model_module": "@jupyter-widgets/base",
            "top": null,
            "grid_column": null,
            "width": null,
            "overflow_x": null,
            "grid_auto_flow": null,
            "grid_area": null,
            "grid_template_columns": null,
            "flex": null,
            "_model_name": "LayoutModel",
            "justify_items": null,
            "grid_row": null,
            "max_height": null,
            "align_content": null,
            "visibility": null,
            "overflow": null,
            "height": null,
            "min_height": null,
            "padding": null,
            "grid_auto_rows": null,
            "grid_gap": null,
            "overflow_y": null,
            "max_width": null,
            "order": null,
            "_view_module_version": "1.2.0",
            "align_self": null,
            "grid_template_areas": null,
            "object_position": null,
            "object_fit": null,
            "grid_auto_columns": null,
            "margin": null,
            "display": null,
            "left": null
          }
        },
        "a4b2f1d31e354bef9977c447ffd3ff13": {
          "model_module": "@jupyter-widgets/controls",
          "model_name": "IntProgressModel",
          "state": {
            "_view_name": "ProgressView",
            "style": "IPY_MODEL_535a9410f1fe4c8b96078dea22b65594",
            "_view_module": "@jupyter-widgets/controls",
            "_dom_classes": [],
            "orientation": "horizontal",
            "min": 0,
            "bar_style": "info",
            "max": 1,
            "_model_name": "IntProgressModel",
            "_model_module_version": "1.5.0",
            "value": 1,
            "_view_count": null,
            "_view_module_version": "1.5.0",
            "description_tooltip": null,
            "_model_module": "@jupyter-widgets/controls",
            "layout": "IPY_MODEL_f6c9235369874d9e91de5ae938975f76",
            "description": ""
          }
        },
        "02b20f35c24c45ffa8bd40e31ff8344d": {
          "model_module": "@jupyter-widgets/controls",
          "model_name": "HTMLModel",
          "state": {
            "_view_name": "HTMLView",
            "style": "IPY_MODEL_6615d72d743f4e0a91e0e491b8d04674",
            "_dom_classes": [],
            "description": "",
            "_model_name": "HTMLModel",
            "placeholder": "​",
            "_view_module": "@jupyter-widgets/controls",
            "_model_module_version": "1.5.0",
            "value": "9920512it [01:00, 141835.17it/s]",
            "_view_count": null,
            "_view_module_version": "1.5.0",
            "description_tooltip": null,
            "_model_module": "@jupyter-widgets/controls",
            "layout": "IPY_MODEL_67c3251c8cdd41ebabe3a17d316f8a92"
          }
        },
        "535a9410f1fe4c8b96078dea22b65594": {
          "model_module": "@jupyter-widgets/controls",
          "model_name": "ProgressStyleModel",
          "state": {
            "_view_name": "StyleView",
            "_model_name": "ProgressStyleModel",
            "description_width": "",
            "_view_module": "@jupyter-widgets/base",
            "_model_module_version": "1.5.0",
            "_view_count": null,
            "_view_module_version": "1.2.0",
            "bar_color": null,
            "_model_module": "@jupyter-widgets/controls"
          }
        },
        "f6c9235369874d9e91de5ae938975f76": {
          "model_module": "@jupyter-widgets/base",
          "model_name": "LayoutModel",
          "state": {
            "_view_name": "LayoutView",
            "grid_template_rows": null,
            "right": null,
            "justify_content": null,
            "_view_module": "@jupyter-widgets/base",
            "_model_module_version": "1.2.0",
            "_view_count": null,
            "flex_flow": null,
            "min_width": null,
            "border": null,
            "align_items": null,
            "bottom": null,
            "_model_module": "@jupyter-widgets/base",
            "top": null,
            "grid_column": null,
            "width": null,
            "overflow_x": null,
            "grid_auto_flow": null,
            "grid_area": null,
            "grid_template_columns": null,
            "flex": null,
            "_model_name": "LayoutModel",
            "justify_items": null,
            "grid_row": null,
            "max_height": null,
            "align_content": null,
            "visibility": null,
            "overflow": null,
            "height": null,
            "min_height": null,
            "padding": null,
            "grid_auto_rows": null,
            "grid_gap": null,
            "overflow_y": null,
            "max_width": null,
            "order": null,
            "_view_module_version": "1.2.0",
            "align_self": null,
            "grid_template_areas": null,
            "object_position": null,
            "object_fit": null,
            "grid_auto_columns": null,
            "margin": null,
            "display": null,
            "left": null
          }
        },
        "6615d72d743f4e0a91e0e491b8d04674": {
          "model_module": "@jupyter-widgets/controls",
          "model_name": "DescriptionStyleModel",
          "state": {
            "_view_name": "StyleView",
            "_model_name": "DescriptionStyleModel",
            "description_width": "",
            "_view_module": "@jupyter-widgets/base",
            "_model_module_version": "1.5.0",
            "_view_count": null,
            "_view_module_version": "1.2.0",
            "_model_module": "@jupyter-widgets/controls"
          }
        },
        "67c3251c8cdd41ebabe3a17d316f8a92": {
          "model_module": "@jupyter-widgets/base",
          "model_name": "LayoutModel",
          "state": {
            "_view_name": "LayoutView",
            "grid_template_rows": null,
            "right": null,
            "justify_content": null,
            "_view_module": "@jupyter-widgets/base",
            "_model_module_version": "1.2.0",
            "_view_count": null,
            "flex_flow": null,
            "min_width": null,
            "border": null,
            "align_items": null,
            "bottom": null,
            "_model_module": "@jupyter-widgets/base",
            "top": null,
            "grid_column": null,
            "width": null,
            "overflow_x": null,
            "grid_auto_flow": null,
            "grid_area": null,
            "grid_template_columns": null,
            "flex": null,
            "_model_name": "LayoutModel",
            "justify_items": null,
            "grid_row": null,
            "max_height": null,
            "align_content": null,
            "visibility": null,
            "overflow": null,
            "height": null,
            "min_height": null,
            "padding": null,
            "grid_auto_rows": null,
            "grid_gap": null,
            "overflow_y": null,
            "max_width": null,
            "order": null,
            "_view_module_version": "1.2.0",
            "align_self": null,
            "grid_template_areas": null,
            "object_position": null,
            "object_fit": null,
            "grid_auto_columns": null,
            "margin": null,
            "display": null,
            "left": null
          }
        },
        "8d0db272b1aa4f61815cbe18ba5d6a1a": {
          "model_module": "@jupyter-widgets/controls",
          "model_name": "HBoxModel",
          "state": {
            "_view_name": "HBoxView",
            "_dom_classes": [],
            "_model_name": "HBoxModel",
            "_view_module": "@jupyter-widgets/controls",
            "_model_module_version": "1.5.0",
            "_view_count": null,
            "_view_module_version": "1.5.0",
            "box_style": "",
            "layout": "IPY_MODEL_1be5535688444d5ba3ba51429d5476ff",
            "_model_module": "@jupyter-widgets/controls",
            "children": [
              "IPY_MODEL_378f25f2896c4335a94f4f7e9da0690a",
              "IPY_MODEL_f4eb66c1ab444171aaec27d628ddc79d"
            ]
          }
        },
        "1be5535688444d5ba3ba51429d5476ff": {
          "model_module": "@jupyter-widgets/base",
          "model_name": "LayoutModel",
          "state": {
            "_view_name": "LayoutView",
            "grid_template_rows": null,
            "right": null,
            "justify_content": null,
            "_view_module": "@jupyter-widgets/base",
            "_model_module_version": "1.2.0",
            "_view_count": null,
            "flex_flow": null,
            "min_width": null,
            "border": null,
            "align_items": null,
            "bottom": null,
            "_model_module": "@jupyter-widgets/base",
            "top": null,
            "grid_column": null,
            "width": null,
            "overflow_x": null,
            "grid_auto_flow": null,
            "grid_area": null,
            "grid_template_columns": null,
            "flex": null,
            "_model_name": "LayoutModel",
            "justify_items": null,
            "grid_row": null,
            "max_height": null,
            "align_content": null,
            "visibility": null,
            "overflow": null,
            "height": null,
            "min_height": null,
            "padding": null,
            "grid_auto_rows": null,
            "grid_gap": null,
            "overflow_y": null,
            "max_width": null,
            "order": null,
            "_view_module_version": "1.2.0",
            "align_self": null,
            "grid_template_areas": null,
            "object_position": null,
            "object_fit": null,
            "grid_auto_columns": null,
            "margin": null,
            "display": null,
            "left": null
          }
        },
        "378f25f2896c4335a94f4f7e9da0690a": {
          "model_module": "@jupyter-widgets/controls",
          "model_name": "IntProgressModel",
          "state": {
            "_view_name": "ProgressView",
            "style": "IPY_MODEL_bcabbdd68b254f78bdfa5d2ad282847e",
            "_view_module": "@jupyter-widgets/controls",
            "_dom_classes": [],
            "orientation": "horizontal",
            "min": 0,
            "bar_style": "success",
            "max": 1,
            "_model_name": "IntProgressModel",
            "_model_module_version": "1.5.0",
            "value": 1,
            "_view_count": null,
            "_view_module_version": "1.5.0",
            "description_tooltip": null,
            "_model_module": "@jupyter-widgets/controls",
            "layout": "IPY_MODEL_486b110d54cd43f5945d38cfc2bbd363",
            "description": ""
          }
        },
        "f4eb66c1ab444171aaec27d628ddc79d": {
          "model_module": "@jupyter-widgets/controls",
          "model_name": "HTMLModel",
          "state": {
            "_view_name": "HTMLView",
            "style": "IPY_MODEL_e96374f11d14494cb0580b9f114d3dad",
            "_dom_classes": [],
            "description": "",
            "_model_name": "HTMLModel",
            "placeholder": "​",
            "_view_module": "@jupyter-widgets/controls",
            "_model_module_version": "1.5.0",
            "value": "32768it [00:00, 44804.38it/s]",
            "_view_count": null,
            "_view_module_version": "1.5.0",
            "description_tooltip": null,
            "_model_module": "@jupyter-widgets/controls",
            "layout": "IPY_MODEL_242151070fb14edd953203b6c81dcda4"
          }
        },
        "bcabbdd68b254f78bdfa5d2ad282847e": {
          "model_module": "@jupyter-widgets/controls",
          "model_name": "ProgressStyleModel",
          "state": {
            "_view_name": "StyleView",
            "_model_name": "ProgressStyleModel",
            "description_width": "",
            "_view_module": "@jupyter-widgets/base",
            "_model_module_version": "1.5.0",
            "_view_count": null,
            "_view_module_version": "1.2.0",
            "bar_color": null,
            "_model_module": "@jupyter-widgets/controls"
          }
        },
        "486b110d54cd43f5945d38cfc2bbd363": {
          "model_module": "@jupyter-widgets/base",
          "model_name": "LayoutModel",
          "state": {
            "_view_name": "LayoutView",
            "grid_template_rows": null,
            "right": null,
            "justify_content": null,
            "_view_module": "@jupyter-widgets/base",
            "_model_module_version": "1.2.0",
            "_view_count": null,
            "flex_flow": null,
            "min_width": null,
            "border": null,
            "align_items": null,
            "bottom": null,
            "_model_module": "@jupyter-widgets/base",
            "top": null,
            "grid_column": null,
            "width": null,
            "overflow_x": null,
            "grid_auto_flow": null,
            "grid_area": null,
            "grid_template_columns": null,
            "flex": null,
            "_model_name": "LayoutModel",
            "justify_items": null,
            "grid_row": null,
            "max_height": null,
            "align_content": null,
            "visibility": null,
            "overflow": null,
            "height": null,
            "min_height": null,
            "padding": null,
            "grid_auto_rows": null,
            "grid_gap": null,
            "overflow_y": null,
            "max_width": null,
            "order": null,
            "_view_module_version": "1.2.0",
            "align_self": null,
            "grid_template_areas": null,
            "object_position": null,
            "object_fit": null,
            "grid_auto_columns": null,
            "margin": null,
            "display": null,
            "left": null
          }
        },
        "e96374f11d14494cb0580b9f114d3dad": {
          "model_module": "@jupyter-widgets/controls",
          "model_name": "DescriptionStyleModel",
          "state": {
            "_view_name": "StyleView",
            "_model_name": "DescriptionStyleModel",
            "description_width": "",
            "_view_module": "@jupyter-widgets/base",
            "_model_module_version": "1.5.0",
            "_view_count": null,
            "_view_module_version": "1.2.0",
            "_model_module": "@jupyter-widgets/controls"
          }
        },
        "242151070fb14edd953203b6c81dcda4": {
          "model_module": "@jupyter-widgets/base",
          "model_name": "LayoutModel",
          "state": {
            "_view_name": "LayoutView",
            "grid_template_rows": null,
            "right": null,
            "justify_content": null,
            "_view_module": "@jupyter-widgets/base",
            "_model_module_version": "1.2.0",
            "_view_count": null,
            "flex_flow": null,
            "min_width": null,
            "border": null,
            "align_items": null,
            "bottom": null,
            "_model_module": "@jupyter-widgets/base",
            "top": null,
            "grid_column": null,
            "width": null,
            "overflow_x": null,
            "grid_auto_flow": null,
            "grid_area": null,
            "grid_template_columns": null,
            "flex": null,
            "_model_name": "LayoutModel",
            "justify_items": null,
            "grid_row": null,
            "max_height": null,
            "align_content": null,
            "visibility": null,
            "overflow": null,
            "height": null,
            "min_height": null,
            "padding": null,
            "grid_auto_rows": null,
            "grid_gap": null,
            "overflow_y": null,
            "max_width": null,
            "order": null,
            "_view_module_version": "1.2.0",
            "align_self": null,
            "grid_template_areas": null,
            "object_position": null,
            "object_fit": null,
            "grid_auto_columns": null,
            "margin": null,
            "display": null,
            "left": null
          }
        },
        "2d0f2761c95946d99659f5e33e945b80": {
          "model_module": "@jupyter-widgets/controls",
          "model_name": "HBoxModel",
          "state": {
            "_view_name": "HBoxView",
            "_dom_classes": [],
            "_model_name": "HBoxModel",
            "_view_module": "@jupyter-widgets/controls",
            "_model_module_version": "1.5.0",
            "_view_count": null,
            "_view_module_version": "1.5.0",
            "box_style": "",
            "layout": "IPY_MODEL_df168f61e8c04f60883ec226bb1a0a35",
            "_model_module": "@jupyter-widgets/controls",
            "children": [
              "IPY_MODEL_2104ea6c64bf45f19ebcae0def3fecb8",
              "IPY_MODEL_71f18627122f4646b798294c778a7c95"
            ]
          }
        },
        "df168f61e8c04f60883ec226bb1a0a35": {
          "model_module": "@jupyter-widgets/base",
          "model_name": "LayoutModel",
          "state": {
            "_view_name": "LayoutView",
            "grid_template_rows": null,
            "right": null,
            "justify_content": null,
            "_view_module": "@jupyter-widgets/base",
            "_model_module_version": "1.2.0",
            "_view_count": null,
            "flex_flow": null,
            "min_width": null,
            "border": null,
            "align_items": null,
            "bottom": null,
            "_model_module": "@jupyter-widgets/base",
            "top": null,
            "grid_column": null,
            "width": null,
            "overflow_x": null,
            "grid_auto_flow": null,
            "grid_area": null,
            "grid_template_columns": null,
            "flex": null,
            "_model_name": "LayoutModel",
            "justify_items": null,
            "grid_row": null,
            "max_height": null,
            "align_content": null,
            "visibility": null,
            "overflow": null,
            "height": null,
            "min_height": null,
            "padding": null,
            "grid_auto_rows": null,
            "grid_gap": null,
            "overflow_y": null,
            "max_width": null,
            "order": null,
            "_view_module_version": "1.2.0",
            "align_self": null,
            "grid_template_areas": null,
            "object_position": null,
            "object_fit": null,
            "grid_auto_columns": null,
            "margin": null,
            "display": null,
            "left": null
          }
        },
        "2104ea6c64bf45f19ebcae0def3fecb8": {
          "model_module": "@jupyter-widgets/controls",
          "model_name": "IntProgressModel",
          "state": {
            "_view_name": "ProgressView",
            "style": "IPY_MODEL_27b8093009e444f5ae7721543f5f1afb",
            "_view_module": "@jupyter-widgets/controls",
            "_dom_classes": [],
            "orientation": "horizontal",
            "min": 0,
            "bar_style": "info",
            "max": 1,
            "_model_name": "IntProgressModel",
            "_model_module_version": "1.5.0",
            "value": 1,
            "_view_count": null,
            "_view_module_version": "1.5.0",
            "description_tooltip": null,
            "_model_module": "@jupyter-widgets/controls",
            "layout": "IPY_MODEL_b6046783577b43c995fe09aba007711c",
            "description": ""
          }
        },
        "71f18627122f4646b798294c778a7c95": {
          "model_module": "@jupyter-widgets/controls",
          "model_name": "HTMLModel",
          "state": {
            "_view_name": "HTMLView",
            "style": "IPY_MODEL_3127eb9d85234ee3992649200fedd69f",
            "_dom_classes": [],
            "description": "",
            "_model_name": "HTMLModel",
            "placeholder": "​",
            "_view_module": "@jupyter-widgets/controls",
            "_model_module_version": "1.5.0",
            "value": "1654784it [00:24, 133905.84it/s]",
            "_view_count": null,
            "_view_module_version": "1.5.0",
            "description_tooltip": null,
            "_model_module": "@jupyter-widgets/controls",
            "layout": "IPY_MODEL_83388b09b26048fd85dc73a72a0fcf3c"
          }
        },
        "27b8093009e444f5ae7721543f5f1afb": {
          "model_module": "@jupyter-widgets/controls",
          "model_name": "ProgressStyleModel",
          "state": {
            "_view_name": "StyleView",
            "_model_name": "ProgressStyleModel",
            "description_width": "",
            "_view_module": "@jupyter-widgets/base",
            "_model_module_version": "1.5.0",
            "_view_count": null,
            "_view_module_version": "1.2.0",
            "bar_color": null,
            "_model_module": "@jupyter-widgets/controls"
          }
        },
        "b6046783577b43c995fe09aba007711c": {
          "model_module": "@jupyter-widgets/base",
          "model_name": "LayoutModel",
          "state": {
            "_view_name": "LayoutView",
            "grid_template_rows": null,
            "right": null,
            "justify_content": null,
            "_view_module": "@jupyter-widgets/base",
            "_model_module_version": "1.2.0",
            "_view_count": null,
            "flex_flow": null,
            "min_width": null,
            "border": null,
            "align_items": null,
            "bottom": null,
            "_model_module": "@jupyter-widgets/base",
            "top": null,
            "grid_column": null,
            "width": null,
            "overflow_x": null,
            "grid_auto_flow": null,
            "grid_area": null,
            "grid_template_columns": null,
            "flex": null,
            "_model_name": "LayoutModel",
            "justify_items": null,
            "grid_row": null,
            "max_height": null,
            "align_content": null,
            "visibility": null,
            "overflow": null,
            "height": null,
            "min_height": null,
            "padding": null,
            "grid_auto_rows": null,
            "grid_gap": null,
            "overflow_y": null,
            "max_width": null,
            "order": null,
            "_view_module_version": "1.2.0",
            "align_self": null,
            "grid_template_areas": null,
            "object_position": null,
            "object_fit": null,
            "grid_auto_columns": null,
            "margin": null,
            "display": null,
            "left": null
          }
        },
        "3127eb9d85234ee3992649200fedd69f": {
          "model_module": "@jupyter-widgets/controls",
          "model_name": "DescriptionStyleModel",
          "state": {
            "_view_name": "StyleView",
            "_model_name": "DescriptionStyleModel",
            "description_width": "",
            "_view_module": "@jupyter-widgets/base",
            "_model_module_version": "1.5.0",
            "_view_count": null,
            "_view_module_version": "1.2.0",
            "_model_module": "@jupyter-widgets/controls"
          }
        },
        "83388b09b26048fd85dc73a72a0fcf3c": {
          "model_module": "@jupyter-widgets/base",
          "model_name": "LayoutModel",
          "state": {
            "_view_name": "LayoutView",
            "grid_template_rows": null,
            "right": null,
            "justify_content": null,
            "_view_module": "@jupyter-widgets/base",
            "_model_module_version": "1.2.0",
            "_view_count": null,
            "flex_flow": null,
            "min_width": null,
            "border": null,
            "align_items": null,
            "bottom": null,
            "_model_module": "@jupyter-widgets/base",
            "top": null,
            "grid_column": null,
            "width": null,
            "overflow_x": null,
            "grid_auto_flow": null,
            "grid_area": null,
            "grid_template_columns": null,
            "flex": null,
            "_model_name": "LayoutModel",
            "justify_items": null,
            "grid_row": null,
            "max_height": null,
            "align_content": null,
            "visibility": null,
            "overflow": null,
            "height": null,
            "min_height": null,
            "padding": null,
            "grid_auto_rows": null,
            "grid_gap": null,
            "overflow_y": null,
            "max_width": null,
            "order": null,
            "_view_module_version": "1.2.0",
            "align_self": null,
            "grid_template_areas": null,
            "object_position": null,
            "object_fit": null,
            "grid_auto_columns": null,
            "margin": null,
            "display": null,
            "left": null
          }
        },
        "35c068badb664ca587d35b52a8cef7c4": {
          "model_module": "@jupyter-widgets/controls",
          "model_name": "HBoxModel",
          "state": {
            "_view_name": "HBoxView",
            "_dom_classes": [],
            "_model_name": "HBoxModel",
            "_view_module": "@jupyter-widgets/controls",
            "_model_module_version": "1.5.0",
            "_view_count": null,
            "_view_module_version": "1.5.0",
            "box_style": "",
            "layout": "IPY_MODEL_930995c68e064bc08347e96428046ce0",
            "_model_module": "@jupyter-widgets/controls",
            "children": [
              "IPY_MODEL_bb136aef7d974cd89bfb3e591547f001",
              "IPY_MODEL_ffbc6b05c4d94deaacc821c3703882a5"
            ]
          }
        },
        "930995c68e064bc08347e96428046ce0": {
          "model_module": "@jupyter-widgets/base",
          "model_name": "LayoutModel",
          "state": {
            "_view_name": "LayoutView",
            "grid_template_rows": null,
            "right": null,
            "justify_content": null,
            "_view_module": "@jupyter-widgets/base",
            "_model_module_version": "1.2.0",
            "_view_count": null,
            "flex_flow": null,
            "min_width": null,
            "border": null,
            "align_items": null,
            "bottom": null,
            "_model_module": "@jupyter-widgets/base",
            "top": null,
            "grid_column": null,
            "width": null,
            "overflow_x": null,
            "grid_auto_flow": null,
            "grid_area": null,
            "grid_template_columns": null,
            "flex": null,
            "_model_name": "LayoutModel",
            "justify_items": null,
            "grid_row": null,
            "max_height": null,
            "align_content": null,
            "visibility": null,
            "overflow": null,
            "height": null,
            "min_height": null,
            "padding": null,
            "grid_auto_rows": null,
            "grid_gap": null,
            "overflow_y": null,
            "max_width": null,
            "order": null,
            "_view_module_version": "1.2.0",
            "align_self": null,
            "grid_template_areas": null,
            "object_position": null,
            "object_fit": null,
            "grid_auto_columns": null,
            "margin": null,
            "display": null,
            "left": null
          }
        },
        "bb136aef7d974cd89bfb3e591547f001": {
          "model_module": "@jupyter-widgets/controls",
          "model_name": "IntProgressModel",
          "state": {
            "_view_name": "ProgressView",
            "style": "IPY_MODEL_ff1415a398464320b3d8b848f31b60bd",
            "_view_module": "@jupyter-widgets/controls",
            "_dom_classes": [],
            "orientation": "horizontal",
            "min": 0,
            "bar_style": "success",
            "max": 1,
            "_model_name": "IntProgressModel",
            "_model_module_version": "1.5.0",
            "value": 1,
            "_view_count": null,
            "_view_module_version": "1.5.0",
            "description_tooltip": null,
            "_model_module": "@jupyter-widgets/controls",
            "layout": "IPY_MODEL_ecf0a61f38de4a1abe7666730aaa227d",
            "description": ""
          }
        },
        "ffbc6b05c4d94deaacc821c3703882a5": {
          "model_module": "@jupyter-widgets/controls",
          "model_name": "HTMLModel",
          "state": {
            "_view_name": "HTMLView",
            "style": "IPY_MODEL_a24d82a79c274f4b9cd7eab2bc68d2c2",
            "_dom_classes": [],
            "description": "",
            "_model_name": "HTMLModel",
            "placeholder": "​",
            "_view_module": "@jupyter-widgets/controls",
            "_model_module_version": "1.5.0",
            "value": "8192it [00:00, 15736.87it/s]",
            "_view_count": null,
            "_view_module_version": "1.5.0",
            "description_tooltip": null,
            "_model_module": "@jupyter-widgets/controls",
            "layout": "IPY_MODEL_02731fe7277a46669f7ceba702980cc4"
          }
        },
        "ff1415a398464320b3d8b848f31b60bd": {
          "model_module": "@jupyter-widgets/controls",
          "model_name": "ProgressStyleModel",
          "state": {
            "_view_name": "StyleView",
            "_model_name": "ProgressStyleModel",
            "description_width": "",
            "_view_module": "@jupyter-widgets/base",
            "_model_module_version": "1.5.0",
            "_view_count": null,
            "_view_module_version": "1.2.0",
            "bar_color": null,
            "_model_module": "@jupyter-widgets/controls"
          }
        },
        "ecf0a61f38de4a1abe7666730aaa227d": {
          "model_module": "@jupyter-widgets/base",
          "model_name": "LayoutModel",
          "state": {
            "_view_name": "LayoutView",
            "grid_template_rows": null,
            "right": null,
            "justify_content": null,
            "_view_module": "@jupyter-widgets/base",
            "_model_module_version": "1.2.0",
            "_view_count": null,
            "flex_flow": null,
            "min_width": null,
            "border": null,
            "align_items": null,
            "bottom": null,
            "_model_module": "@jupyter-widgets/base",
            "top": null,
            "grid_column": null,
            "width": null,
            "overflow_x": null,
            "grid_auto_flow": null,
            "grid_area": null,
            "grid_template_columns": null,
            "flex": null,
            "_model_name": "LayoutModel",
            "justify_items": null,
            "grid_row": null,
            "max_height": null,
            "align_content": null,
            "visibility": null,
            "overflow": null,
            "height": null,
            "min_height": null,
            "padding": null,
            "grid_auto_rows": null,
            "grid_gap": null,
            "overflow_y": null,
            "max_width": null,
            "order": null,
            "_view_module_version": "1.2.0",
            "align_self": null,
            "grid_template_areas": null,
            "object_position": null,
            "object_fit": null,
            "grid_auto_columns": null,
            "margin": null,
            "display": null,
            "left": null
          }
        },
        "a24d82a79c274f4b9cd7eab2bc68d2c2": {
          "model_module": "@jupyter-widgets/controls",
          "model_name": "DescriptionStyleModel",
          "state": {
            "_view_name": "StyleView",
            "_model_name": "DescriptionStyleModel",
            "description_width": "",
            "_view_module": "@jupyter-widgets/base",
            "_model_module_version": "1.5.0",
            "_view_count": null,
            "_view_module_version": "1.2.0",
            "_model_module": "@jupyter-widgets/controls"
          }
        },
        "02731fe7277a46669f7ceba702980cc4": {
          "model_module": "@jupyter-widgets/base",
          "model_name": "LayoutModel",
          "state": {
            "_view_name": "LayoutView",
            "grid_template_rows": null,
            "right": null,
            "justify_content": null,
            "_view_module": "@jupyter-widgets/base",
            "_model_module_version": "1.2.0",
            "_view_count": null,
            "flex_flow": null,
            "min_width": null,
            "border": null,
            "align_items": null,
            "bottom": null,
            "_model_module": "@jupyter-widgets/base",
            "top": null,
            "grid_column": null,
            "width": null,
            "overflow_x": null,
            "grid_auto_flow": null,
            "grid_area": null,
            "grid_template_columns": null,
            "flex": null,
            "_model_name": "LayoutModel",
            "justify_items": null,
            "grid_row": null,
            "max_height": null,
            "align_content": null,
            "visibility": null,
            "overflow": null,
            "height": null,
            "min_height": null,
            "padding": null,
            "grid_auto_rows": null,
            "grid_gap": null,
            "overflow_y": null,
            "max_width": null,
            "order": null,
            "_view_module_version": "1.2.0",
            "align_self": null,
            "grid_template_areas": null,
            "object_position": null,
            "object_fit": null,
            "grid_auto_columns": null,
            "margin": null,
            "display": null,
            "left": null
          }
        }
      }
    }
  },
  "cells": [
    {
      "cell_type": "markdown",
      "metadata": {
        "id": "view-in-github",
        "colab_type": "text"
      },
      "source": [
        "<a href=\"https://colab.research.google.com/github/kamabdi/intro_to_DL/blob/master/Intorduction_to_DL_AI_ML_Seminar.ipynb\" target=\"_parent\"><img src=\"https://colab.research.google.com/assets/colab-badge.svg\" alt=\"Open In Colab\"/></a>"
      ]
    },
    {
      "cell_type": "markdown",
      "metadata": {
        "id": "Qy7BV_Q6MGGH",
        "colab_type": "text"
      },
      "source": [
        "# What is classification?\n",
        "Basic task in Computer Vision\n",
        "\n",
        "![alt text](https://cdn-images-1.medium.com/max/1600/1*oB3S5yHHhvougJkPXuc8og.gif)"
      ]
    },
    {
      "cell_type": "markdown",
      "metadata": {
        "id": "inybqIrxQ4py",
        "colab_type": "text"
      },
      "source": [
        "# Why it is difficult?!\n",
        "\n",
        "1.   Semantic Gap - Did machines see the same way we do? Nope\n",
        "2.   Illumination\n",
        "3.   View point\n",
        "4.   Deformation\n",
        "5.   Occlusion\n",
        "6.   Background Clutter\n",
        "7.   Intraclass variation\n",
        "\n"
      ]
    },
    {
      "cell_type": "markdown",
      "metadata": {
        "id": "oGJfCtGDSE9X",
        "colab_type": "text"
      },
      "source": [
        "## How to approach the Problem???  \n",
        "\n",
        "Just collect the data and hope algorithm will figure it out (aka Data-Driven Approach): \n",
        "\n",
        "1. Collect a dataset of images and labels (Easier sad than done)\n",
        "2. Use Machine Learning to train a classifier\n",
        "3. Evaluate the classifier on new images\n",
        "\n",
        "![alt text](https://imgs.xkcd.com/comics/machine_learning.png)\n",
        "\n"
      ]
    },
    {
      "cell_type": "markdown",
      "metadata": {
        "id": "v8cr0SBxUQgU",
        "colab_type": "text"
      },
      "source": [
        "# Now how we can implement that?\n",
        "#### What you'll learn\n",
        "\n",
        "1. What is a neural network\n",
        "2. How to build a basic 1-layer FC neural network using PyTorch\n",
        "3. How to add more layers\n",
        "4. How to build convolutional networks and train them\n",
        "\n"
      ]
    },
    {
      "cell_type": "markdown",
      "metadata": {
        "id": "JKkkGQps1TYm",
        "colab_type": "text"
      },
      "source": [
        "# Import all necessary packages"
      ]
    },
    {
      "cell_type": "code",
      "metadata": {
        "id": "4dUrEmvO1YUn",
        "colab_type": "code",
        "colab": {}
      },
      "source": [
        "import torch\n",
        "import torch.nn as nn\n",
        "import PIL.Image as image\n",
        "import torchvision.models as model\n",
        "from torch.autograd import Variable as v\n",
        "import torchvision.transforms as transforms\n",
        "import numpy as np\n",
        "import matplotlib.pyplot as plt\n",
        "import torchvision.datasets as datasets\n",
        "import torch.nn.functional as F\n",
        "import torch.optim as optim\n",
        "from torch.autograd import Variable"
      ],
      "execution_count": 1,
      "outputs": []
    },
    {
      "cell_type": "code",
      "metadata": {
        "id": "9oBNmlEL7brj",
        "colab_type": "code",
        "colab": {
          "base_uri": "https://localhost:8080/",
          "height": 357
        },
        "outputId": "6db65c52-5f1b-467f-b921-271001e78f90"
      },
      "source": [
        "# Check what hardware is available\n",
        "!nvidia-smi"
      ],
      "execution_count": 2,
      "outputs": [
        {
          "output_type": "stream",
          "text": [
            "Sun Jun 21 11:41:34 2020       \n",
            "+-----------------------------------------------------------------------------+\n",
            "| NVIDIA-SMI 450.36.06    Driver Version: 418.67       CUDA Version: 10.1     |\n",
            "|-------------------------------+----------------------+----------------------+\n",
            "| GPU  Name        Persistence-M| Bus-Id        Disp.A | Volatile Uncorr. ECC |\n",
            "| Fan  Temp  Perf  Pwr:Usage/Cap|         Memory-Usage | GPU-Util  Compute M. |\n",
            "|                               |                      |               MIG M. |\n",
            "|===============================+======================+======================|\n",
            "|   0  Tesla K80           Off  | 00000000:00:04.0 Off |                    0 |\n",
            "| N/A   46C    P8    30W / 149W |      0MiB / 11441MiB |      0%      Default |\n",
            "|                               |                      |                 ERR! |\n",
            "+-------------------------------+----------------------+----------------------+\n",
            "                                                                               \n",
            "+-----------------------------------------------------------------------------+\n",
            "| Processes:                                                                  |\n",
            "|  GPU   GI   CI        PID   Type   Process name                  GPU Memory |\n",
            "|        ID   ID                                                   Usage      |\n",
            "|=============================================================================|\n",
            "|  No running processes found                                                 |\n",
            "+-----------------------------------------------------------------------------+\n"
          ],
          "name": "stdout"
        }
      ]
    },
    {
      "cell_type": "markdown",
      "metadata": {
        "id": "s4-Ru4Q91hF8",
        "colab_type": "text"
      },
      "source": [
        "# Load data\n",
        "For this experiments we will be using MNIST dataset"
      ]
    },
    {
      "cell_type": "code",
      "metadata": {
        "id": "C-qJ7liy1qJQ",
        "colab_type": "code",
        "colab": {
          "base_uri": "https://localhost:8080/",
          "height": 315,
          "referenced_widgets": [
            "16da7d825dad48669c400861f24f7ee2",
            "547746d28c7a45359c9075629917ae80",
            "a4b2f1d31e354bef9977c447ffd3ff13",
            "02b20f35c24c45ffa8bd40e31ff8344d",
            "535a9410f1fe4c8b96078dea22b65594",
            "f6c9235369874d9e91de5ae938975f76",
            "6615d72d743f4e0a91e0e491b8d04674",
            "67c3251c8cdd41ebabe3a17d316f8a92",
            "8d0db272b1aa4f61815cbe18ba5d6a1a",
            "1be5535688444d5ba3ba51429d5476ff",
            "378f25f2896c4335a94f4f7e9da0690a",
            "f4eb66c1ab444171aaec27d628ddc79d",
            "bcabbdd68b254f78bdfa5d2ad282847e",
            "486b110d54cd43f5945d38cfc2bbd363",
            "e96374f11d14494cb0580b9f114d3dad",
            "242151070fb14edd953203b6c81dcda4",
            "2d0f2761c95946d99659f5e33e945b80",
            "df168f61e8c04f60883ec226bb1a0a35",
            "2104ea6c64bf45f19ebcae0def3fecb8",
            "71f18627122f4646b798294c778a7c95",
            "27b8093009e444f5ae7721543f5f1afb",
            "b6046783577b43c995fe09aba007711c",
            "3127eb9d85234ee3992649200fedd69f",
            "83388b09b26048fd85dc73a72a0fcf3c",
            "35c068badb664ca587d35b52a8cef7c4",
            "930995c68e064bc08347e96428046ce0",
            "bb136aef7d974cd89bfb3e591547f001",
            "ffbc6b05c4d94deaacc821c3703882a5",
            "ff1415a398464320b3d8b848f31b60bd",
            "ecf0a61f38de4a1abe7666730aaa227d",
            "a24d82a79c274f4b9cd7eab2bc68d2c2",
            "02731fe7277a46669f7ceba702980cc4"
          ]
        },
        "outputId": "e2621775-1ab3-47d4-90c1-00762efa6999"
      },
      "source": [
        "root = './data'\n",
        "download = True\n",
        "batch_size = 64\n",
        "cuda = torch.cuda.is_available()\n",
        "device = torch.device(\"cuda:0\" if torch.cuda.is_available() else \"cpu\")\n",
        "\n",
        "kwargs = {'num_workers': 1, 'pin_memory': True} if cuda else {}\n",
        "# The output of torchvision datasets are PILImage images of range [0, 1].\n",
        "# We transform them to Tensors of normalized range [-1, 1]\n",
        "\n",
        "train_loader = torch.utils.data.DataLoader(\n",
        "    datasets.MNIST(root, train=True, download=True,\n",
        "                   transform=transforms.Compose([\n",
        "                       transforms.ToTensor(),\n",
        "                       transforms.Normalize((0.1307,), (0.3081,))\n",
        "                   ])),\n",
        "    batch_size=batch_size, shuffle=True, **kwargs)\n",
        "\n",
        "\n",
        "test_loader = torch.utils.data.DataLoader(\n",
        "    datasets.MNIST(root, train=False, transform=transforms.Compose([\n",
        "                       transforms.ToTensor(),\n",
        "                       transforms.Normalize((0.1307,), (0.3081,))\n",
        "                   ])),\n",
        "    batch_size = batch_size, shuffle=True, **kwargs)"
      ],
      "execution_count": 3,
      "outputs": [
        {
          "output_type": "stream",
          "text": [
            "Downloading http://yann.lecun.com/exdb/mnist/train-images-idx3-ubyte.gz to ./data/MNIST/raw/train-images-idx3-ubyte.gz\n"
          ],
          "name": "stdout"
        },
        {
          "output_type": "display_data",
          "data": {
            "application/vnd.jupyter.widget-view+json": {
              "model_id": "16da7d825dad48669c400861f24f7ee2",
              "version_minor": 0,
              "version_major": 2
            },
            "text/plain": [
              "HBox(children=(IntProgress(value=1, bar_style=u'info', max=1), HTML(value=u'')))"
            ]
          },
          "metadata": {
            "tags": []
          }
        },
        {
          "output_type": "stream",
          "text": [
            "Extracting ./data/MNIST/raw/train-images-idx3-ubyte.gz to ./data/MNIST/raw\n",
            "Downloading http://yann.lecun.com/exdb/mnist/train-labels-idx1-ubyte.gz to ./data/MNIST/raw/train-labels-idx1-ubyte.gz\n"
          ],
          "name": "stdout"
        },
        {
          "output_type": "display_data",
          "data": {
            "application/vnd.jupyter.widget-view+json": {
              "model_id": "8d0db272b1aa4f61815cbe18ba5d6a1a",
              "version_minor": 0,
              "version_major": 2
            },
            "text/plain": [
              "HBox(children=(IntProgress(value=1, bar_style=u'info', max=1), HTML(value=u'')))"
            ]
          },
          "metadata": {
            "tags": []
          }
        },
        {
          "output_type": "stream",
          "text": [
            "Extracting ./data/MNIST/raw/train-labels-idx1-ubyte.gz to ./data/MNIST/raw\n",
            "Downloading http://yann.lecun.com/exdb/mnist/t10k-images-idx3-ubyte.gz to ./data/MNIST/raw/t10k-images-idx3-ubyte.gz\n"
          ],
          "name": "stdout"
        },
        {
          "output_type": "display_data",
          "data": {
            "application/vnd.jupyter.widget-view+json": {
              "model_id": "2d0f2761c95946d99659f5e33e945b80",
              "version_minor": 0,
              "version_major": 2
            },
            "text/plain": [
              "HBox(children=(IntProgress(value=1, bar_style=u'info', max=1), HTML(value=u'')))"
            ]
          },
          "metadata": {
            "tags": []
          }
        },
        {
          "output_type": "stream",
          "text": [
            "Extracting ./data/MNIST/raw/t10k-images-idx3-ubyte.gz to ./data/MNIST/raw\n",
            "Downloading http://yann.lecun.com/exdb/mnist/t10k-labels-idx1-ubyte.gz to ./data/MNIST/raw/t10k-labels-idx1-ubyte.gz\n"
          ],
          "name": "stdout"
        },
        {
          "output_type": "display_data",
          "data": {
            "application/vnd.jupyter.widget-view+json": {
              "model_id": "35c068badb664ca587d35b52a8cef7c4",
              "version_minor": 0,
              "version_major": 2
            },
            "text/plain": [
              "HBox(children=(IntProgress(value=1, bar_style=u'info', max=1), HTML(value=u'')))"
            ]
          },
          "metadata": {
            "tags": []
          }
        },
        {
          "output_type": "stream",
          "text": [
            "Extracting ./data/MNIST/raw/t10k-labels-idx1-ubyte.gz to ./data/MNIST/raw\n",
            "Processing...\n",
            "Done!\n"
          ],
          "name": "stdout"
        }
      ]
    },
    {
      "cell_type": "markdown",
      "metadata": {
        "id": "U3G9K96F3nvQ",
        "colab_type": "text"
      },
      "source": [
        "# Look at your data"
      ]
    },
    {
      "cell_type": "code",
      "metadata": {
        "id": "yrdtxfcC3qNZ",
        "colab_type": "code",
        "colab": {
          "base_uri": "https://localhost:8080/",
          "height": 281
        },
        "outputId": "94f7f649-9429-49cf-b573-7e635d86668c"
      },
      "source": [
        "def imshow(inp, name, title=None):\n",
        "    import pylab\n",
        "    \"\"\"Imshow for Tensor.\"\"\"\n",
        "    inp = inp.squeeze().numpy()\n",
        "    mean = np.array([0.1307])\n",
        "    std = np.array([0.3081])\n",
        "    inp = std * inp + mean\n",
        "    inp = np.clip(inp, 0, 1)\n",
        "    plt.imshow(inp,  cmap=pylab.gray())\n",
        "    \n",
        "    if title is not None:\n",
        "        plt.title(\"Label : \" + str(title))\n",
        "    \n",
        "for batch_idx, (data, target) in enumerate(train_loader):\n",
        "  id = 1 # change number to any id in the batch \n",
        "  sample = data[id] \n",
        "  imshow(sample, 'sample', target[id].item())\n",
        "  break\n",
        "  "
      ],
      "execution_count": 14,
      "outputs": [
        {
          "output_type": "display_data",
          "data": {
            "image/png": "[encoded data removed]",
            "text/plain": [
              "<Figure size 432x288 with 1 Axes>"
            ]
          },
          "metadata": {
            "tags": [],
            "needs_background": "light"
          }
        }
      ]
    },
    {
      "cell_type": "markdown",
      "metadata": {
        "id": "4yhDUAoV5Fpz",
        "colab_type": "text"
      },
      "source": [
        "# Create a model for training\n",
        "TO DO: Use two different loss functions: Sigmoid and ReLu, and see if there is a difference in accuracy"
      ]
    },
    {
      "cell_type": "markdown",
      "metadata": {
        "id": "yBGBK5HM9PzK",
        "colab_type": "text"
      },
      "source": [
        "## FC\n",
        "\n",
        "Let's start with a simple Fully Connected Network"
      ]
    },
    {
      "cell_type": "markdown",
      "metadata": {
        "id": "S-At5xLqB2yu",
        "colab_type": "text"
      },
      "source": [
        "![alt text](https://codelabs.developers.google.com/codelabs/cloud-tensorflow-mnist/img/e218e6eee9da4e.png)"
      ]
    },
    {
      "cell_type": "code",
      "metadata": {
        "id": "bBA_KzMUAzTK",
        "colab_type": "code",
        "colab": {}
      },
      "source": [
        "# New model class is defined as a new nn.Module\n",
        "class Simple_FC(nn.Module):\n",
        "    def __init__(self, input_size=784, num_classes=10):\n",
        "        super(Simple_FC, self).__init__()\n",
        "        self.fc1 = nn.Linear(input_size, num_classes)  \n",
        "    \n",
        "    def forward(self, x):\n",
        "        x = x.view(-1, 784)\n",
        "        out = self.fc1(x) # weighted sum of input and network weights -> Wx+b, b - bias\n",
        "        return out "
      ],
      "execution_count": 15,
      "outputs": []
    },
    {
      "cell_type": "code",
      "metadata": {
        "id": "qyQdyuzP9Nd6",
        "colab_type": "code",
        "colab": {}
      },
      "source": [
        "class Complex_FC(nn.Module):\n",
        "    def __init__(self, input_size=784, hidden_size=500, num_classes=10):\n",
        "        super(Complex_FC, self).__init__()\n",
        "        self.fc1 = nn.Linear(input_size, hidden_size) \n",
        "        self.activation = nn.ReLU()\n",
        "        # self.activation = nn.Sigmoid()\n",
        "        self.fc2 = nn.Linear(hidden_size, num_classes)  \n",
        "    \n",
        "    def forward(self, x):\n",
        "        x = x.view(-1, 784) # flatten the input\n",
        "        out = self.fc1(x)\n",
        "        out = self.activation(out)\n",
        "        out = self.fc2(out)\n",
        "        return out"
      ],
      "execution_count": 16,
      "outputs": []
    },
    {
      "cell_type": "markdown",
      "metadata": {
        "id": "DLkOFJUHFjTe",
        "colab_type": "text"
      },
      "source": [
        "![alt text](https://codelabs.developers.google.com/codelabs/cloud-tensorflow-mnist/img/fba0638cc213a29.png)"
      ]
    },
    {
      "cell_type": "code",
      "metadata": {
        "id": "6alIPVw3uZe0",
        "colab_type": "code",
        "colab": {}
      },
      "source": [
        "class Deep_FC(nn.Module):\n",
        "    def __init__(self, input_size=784, num_classes=10):\n",
        "        super(Deep_FC, self).__init__()\n",
        "        self.fc1 = nn.Linear(input_size, 200) \n",
        "        # self.activation = nn.Sigmoid()\n",
        "        self.activation = nn.ReLU()\n",
        "        self.fc2 = nn.Linear(200, 100)  \n",
        "        self.fc3 = nn.Linear(100, 60) \n",
        "        self.fc4 = nn.Linear(60, 30)  \n",
        "        self.fc5 = nn.Linear(30, num_classes)  \n",
        "    \n",
        "    def forward(self, x):\n",
        "        x = x.view(-1, 784)\n",
        "        x = self.fc1(x)\n",
        "        x = self.activation(x)\n",
        "        x = self.fc2(x)\n",
        "        x = self.activation(x)\n",
        "        x = self.fc3(x)\n",
        "        x = self.activation(x)\n",
        "        x = self.fc4(x)\n",
        "        x = self.activation(x)\n",
        "        x = self.fc5(x)\n",
        "        return x"
      ],
      "execution_count": 17,
      "outputs": []
    },
    {
      "cell_type": "markdown",
      "metadata": {
        "id": "buI_vFTP9eoC",
        "colab_type": "text"
      },
      "source": [
        "## CNN\n",
        "Now let's see how we get even more from the network with a better architecture (CNN) "
      ]
    },
    {
      "cell_type": "markdown",
      "metadata": {
        "id": "htjxOKrNLwcy",
        "colab_type": "text"
      },
      "source": [
        "![alt text](https://i.stack.imgur.com/FjvuN.gif)"
      ]
    },
    {
      "cell_type": "code",
      "metadata": {
        "id": "iu1DYw-n5N6f",
        "colab_type": "code",
        "colab": {}
      },
      "source": [
        "class CNN(nn.Module):\n",
        "    def __init__(self):\n",
        "        super(CNN, self).__init__()\n",
        "        self.conv1 = nn.Conv2d(1, 10, kernel_size=5)\n",
        "        self.conv2 = nn.Conv2d(10, 20, kernel_size=5)\n",
        "        self.fc1 = nn.Linear(16*20, 50) # Fully Connected Layers \n",
        "        self.fc2 = nn.Linear(50, 10)\n",
        "        self.bn1 = nn.BatchNorm2d(10)\n",
        "        self.bn2 = nn.BatchNorm2d(20)\n",
        "        self.bn3 = nn.BatchNorm1d(50)\n",
        "        # self.activation = nn.Sigmoid()\n",
        "        self.activation = nn.ReLU()\n",
        "\n",
        "    def forward(self, x):\n",
        "\n",
        "        x = self.activation(F.max_pool2d(self.bn1(self.conv1(x)), 2))\n",
        "        x = self.activation(F.max_pool2d(self.bn2(self.conv2(x)), 2))\n",
        "        \n",
        "        x = x.view(-1, 16*20) # flatten input to feed it to fully connected layer\n",
        "        x = self.activation(self.bn3(self.fc1(x)))\n",
        "        x = F.dropout(x, p=0.25)\n",
        "        x = self.fc2(x)\n",
        "        \n",
        "        return x"
      ],
      "execution_count": 18,
      "outputs": []
    },
    {
      "cell_type": "markdown",
      "metadata": {
        "id": "0JqcoNmh95Uo",
        "colab_type": "text"
      },
      "source": [
        "## Pick model for testing"
      ]
    },
    {
      "cell_type": "code",
      "metadata": {
        "id": "rbBOhJv46Jfy",
        "colab_type": "code",
        "colab": {}
      },
      "source": [
        "# model = Simple_FC()\n",
        "model = Complex_FC()\n",
        "# model = Deep_FC()\n",
        "# model = CNN()\n",
        "\n",
        "model = model.to(device) # send model to GPU if available"
      ],
      "execution_count": 27,
      "outputs": []
    },
    {
      "cell_type": "markdown",
      "metadata": {
        "id": "q7k6XE5J6M9v",
        "colab_type": "text"
      },
      "source": [
        "# Define a Loss Function(Criterion) and an Optimizer\n"
      ]
    },
    {
      "cell_type": "markdown",
      "metadata": {
        "id": "_BeUR3h9Hhu0",
        "colab_type": "text"
      },
      "source": [
        "## How to choose your learning rate ???\n",
        "\n",
        "Hyperparameter - not-learanable parameter and picked manually in the begining of training \\\\\n",
        "Try and see what works best \\\\\n",
        "\n",
        "Check behavious: \n",
        "1. Simple_FC with lr = 0.01, 0.001, 0.0001\n",
        "2. Complex_FC with lr = 0.01, 0.001, 0.0001\n",
        "3. CNN with lr = 0.1, 0.01 \n",
        "\n",
        "![alt text](http://cs231n.github.io/assets/nn3/learningrates.jpeg)"
      ]
    },
    {
      "cell_type": "markdown",
      "metadata": {
        "id": "bavgM7btH1pY",
        "colab_type": "text"
      },
      "source": [
        "## Momentum ??? \n",
        " - running average of previous updates! Small oscillations \n",
        " \n",
        " `V = momentum*V + (1-momentum)*gradient_of_parameters`\n",
        " \n",
        "![alt text](https://cdn-images-1.medium.com/max/1600/1*5-GPmnonHVQiIj2EPG3Fgw.png)\n",
        "\n",
        "Without Momentum -> \n",
        "\n",
        "```\n",
        "update = learning_rate * gradient_of_parameters\n",
        "parameters = parameters - update\n",
        "\n",
        "```\n",
        "\n",
        "![alt text](https://qph.fs.quoracdn.net/main-qimg-7adad11c6ee947a96e917e2a8205392d)\n",
        "\n",
        "With Momentum \n",
        "```\n",
        "V = momentum*V + (1-momentum)*gradient_of_parameters\n",
        "W = W - learning_rate * V\n",
        "\n",
        "```\n",
        "\n",
        "![alt text](https://i.ytimg.com/vi/WpHh188mwJA/hqdefault.jpg)\n",
        "\n"
      ]
    },
    {
      "cell_type": "markdown",
      "metadata": {
        "id": "zVXG7IlxCzoW",
        "colab_type": "text"
      },
      "source": [
        "## Loss? How cross-entropy loss is calculated? \n",
        "Loss is a way to quantifying what it means to have a “good” classifier\n",
        "![alt text](https://codelabs.developers.google.com/codelabs/cloud-tensorflow-mnist/img/6dbba1bce3cadc36.png)\n",
        "\n",
        "\n",
        "**Note!!!** In Pytorch obtaining log-probabilities in a neural network is easily achieved by adding a  `LogSoftmax`  layer in the last layer of your network and use `NLLLoss` (The negative log likelihood loss)\n",
        "You may use `CrossEntropyLoss` instead, if you prefer not to add an extra layer."
      ]
    },
    {
      "cell_type": "markdown",
      "metadata": {
        "id": "s6d5LVkXDXaH",
        "colab_type": "text"
      },
      "source": [
        "## How is essentially optimization works? (in the Perfect World)\n",
        "![alt text](https://cdn-images-1.medium.com/max/1600/1*bl1EuPH_XEGvMcMW6ZloNg.jpeg)\n",
        "\n",
        "\n"
      ]
    },
    {
      "cell_type": "markdown",
      "metadata": {
        "id": "_E6vI1aPDwk6",
        "colab_type": "text"
      },
      "source": [
        "## But real life is not perfect. So your real function will probably look like that. Still quit good \n",
        "In this picture, loss is represented as a function of 2 parameters. In reality, there are many more\n",
        "![alt text](https://cdn-images-1.medium.com/max/1200/1*msObu3xbQzSnKvtCW2z6YQ.png)"
      ]
    },
    {
      "cell_type": "code",
      "metadata": {
        "id": "qkFyyXAK6MfL",
        "colab_type": "code",
        "colab": {}
      },
      "source": [
        "# !!! NOTE !!! Reset these parameters, each time you create a new model \n",
        "lr = 0.01 \n",
        "momentum = 0.9\n",
        "criterion = nn.CrossEntropyLoss()\n",
        "optimizer = optim.SGD(model.parameters(), lr=lr, momentum=momentum)"
      ],
      "execution_count": 34,
      "outputs": []
    },
    {
      "cell_type": "markdown",
      "metadata": {
        "id": "l1QqrOf07CdK",
        "colab_type": "text"
      },
      "source": [
        "# Specify the training Procedure"
      ]
    },
    {
      "cell_type": "code",
      "metadata": {
        "id": "S0w-4uFa7HU8",
        "colab_type": "code",
        "colab": {}
      },
      "source": [
        "log_interval = 100\n",
        "def train(epoch):\n",
        "    model.train()\n",
        "    for batch_idx, (data, target) in enumerate(train_loader):\n",
        "        data, target = data.to(device), target.to(device) # send data to GPU for faster compute, if GPU is available\n",
        "\n",
        "        optimizer.zero_grad()\n",
        "        output = model(data)\n",
        "        loss = criterion(output, target)\n",
        "        loss.backward() # calculate gradients\n",
        "        optimizer.step() # update network parameters\n",
        "            \n",
        "        if batch_idx % log_interval == 0:\n",
        "            # Compute accuracy\n",
        "            _, argmax = torch.max(output, 1)\n",
        "            accuracy = (target == argmax.squeeze()).float().mean()\n",
        "\n",
        "            print('Train Epoch: {} [{}/{} ({:.00f}%)]\\tLoss: {:.6f}\\tAccuracy: {:.3f}'.format(\n",
        "                epoch, batch_idx * len(data), len(train_loader.dataset),\n",
        "                100. * batch_idx / len(train_loader), loss.data.item(), accuracy))\n",
        "            \n"
      ],
      "execution_count": 32,
      "outputs": []
    },
    {
      "cell_type": "markdown",
      "metadata": {
        "id": "ZLYPUPqB8qdm",
        "colab_type": "text"
      },
      "source": [
        "# Check the model accuracy "
      ]
    },
    {
      "cell_type": "code",
      "metadata": {
        "id": "kxsnSEvA8vsJ",
        "colab_type": "code",
        "colab": {}
      },
      "source": [
        "def test():\n",
        "    model.eval()\n",
        "    test_loss = 0\n",
        "    correct = 0\n",
        "    for data, target in test_loader:\n",
        "        data, target = data.to(device), target.to(device)\n",
        "       # with torch.no_grad(): # use when don't want to compute the gradient\n",
        "        output = model(data)\n",
        "        test_loss += criterion(output, target).data.item()\n",
        "        pred = output.data.max(1)[1] # get the index of the max log-probability\n",
        "        correct += pred.eq(target.data).cpu().sum()\n",
        "\n",
        "    test_loss = test_loss\n",
        "    test_loss /= len(test_loader) # loss function already averages over batch size\n",
        "    print('\\nTest set: Average loss: {:.4f}, Accuracy: {}/{} ({:.2f}%)\\n'.format(\n",
        "        test_loss, correct, len(test_loader.dataset),\n",
        "        100. * correct / len(test_loader.dataset)))"
      ],
      "execution_count": 24,
      "outputs": []
    },
    {
      "cell_type": "markdown",
      "metadata": {
        "id": "NYrKRLW37k4t",
        "colab_type": "text"
      },
      "source": [
        "# Let's Finally Train your Created Model"
      ]
    },
    {
      "cell_type": "code",
      "metadata": {
        "id": "5rcTY3Jy7aX5",
        "colab_type": "code",
        "colab": {
          "base_uri": "https://localhost:8080/",
          "height": 187
        },
        "outputId": "281dcfd9-0a1e-40ac-8ada-04a0b9cbca50"
      },
      "source": [
        "epochs = 1\n",
        "for epoch in range(1, epochs + 1):\n",
        "   # adjust_learning_rate(lr, optimizer, epoch)\n",
        "    train(epoch)"
      ],
      "execution_count": 33,
      "outputs": [
        {
          "output_type": "stream",
          "text": [
            "Train Epoch: 1 [0/60000 (0%)]\tLoss: 0.223624\tAccuracy: 0.953\n",
            "Train Epoch: 1 [6400/60000 (11%)]\tLoss: 0.061369\tAccuracy: 0.984\n",
            "Train Epoch: 1 [12800/60000 (21%)]\tLoss: 0.038098\tAccuracy: 1.000\n",
            "Train Epoch: 1 [19200/60000 (32%)]\tLoss: 0.130585\tAccuracy: 0.953\n",
            "Train Epoch: 1 [25600/60000 (43%)]\tLoss: 0.191156\tAccuracy: 0.938\n",
            "Train Epoch: 1 [32000/60000 (53%)]\tLoss: 0.128493\tAccuracy: 0.984\n",
            "Train Epoch: 1 [38400/60000 (64%)]\tLoss: 0.092704\tAccuracy: 0.969\n",
            "Train Epoch: 1 [44800/60000 (75%)]\tLoss: 0.103412\tAccuracy: 0.953\n",
            "Train Epoch: 1 [51200/60000 (85%)]\tLoss: 0.260254\tAccuracy: 0.922\n",
            "Train Epoch: 1 [57600/60000 (96%)]\tLoss: 0.095010\tAccuracy: 0.969\n"
          ],
          "name": "stdout"
        }
      ]
    },
    {
      "cell_type": "code",
      "metadata": {
        "id": "s4TsRr9A86KB",
        "colab_type": "code",
        "colab": {
          "base_uri": "https://localhost:8080/",
          "height": 68
        },
        "outputId": "d1c2964f-0aa6-462c-b322-bb2614f92568"
      },
      "source": [
        "test()"
      ],
      "execution_count": 31,
      "outputs": [
        {
          "output_type": "stream",
          "text": [
            "\n",
            "Test set: Average loss: 0.1304, Accuracy: 9622/10000 (96.22%)\n",
            "\n"
          ],
          "name": "stdout"
        }
      ]
    },
    {
      "cell_type": "markdown",
      "metadata": {
        "id": "fgyjvwfdNleh",
        "colab_type": "text"
      },
      "source": [
        "# What to do next \n",
        "\n",
        "\n",
        "1.   More complex Datasets (CIFAR, ImageNet). You even can make your own\n",
        "2.   Transfer Learning from Pre-trained models. \n",
        "3.   How my filters look like ???? Feature Visualization\n",
        "\n"
      ]
    }
  ]
}